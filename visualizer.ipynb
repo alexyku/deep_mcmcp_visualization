{
 "cells": [
  {
   "cell_type": "code",
   "execution_count": 6,
   "metadata": {},
   "outputs": [],
   "source": [
    "import numpy as np\n",
    "import pandas as pd\n",
    "from sklearn.decomposition import PCA\n",
    "import json"
   ]
  },
  {
   "cell_type": "code",
   "execution_count": 7,
   "metadata": {
    "collapsed": true
   },
   "outputs": [],
   "source": [
    "!python offline_data_dump.py"
   ]
  },
  {
   "cell_type": "code",
   "execution_count": 8,
   "metadata": {},
   "outputs": [
    {
     "data": {
      "text/html": [
       "<div>\n",
       "<table border=\"1\" class=\"dataframe\">\n",
       "  <thead>\n",
       "    <tr style=\"text-align: right;\">\n",
       "      <th></th>\n",
       "      <th>id</th>\n",
       "      <th>creation_time</th>\n",
       "      <th>chosen</th>\n",
       "      <th>failed</th>\n",
       "      <th>time_of_death</th>\n",
       "      <th>type</th>\n",
       "      <th>origin_id</th>\n",
       "      <th>network_id</th>\n",
       "      <th>contents</th>\n",
       "    </tr>\n",
       "  </thead>\n",
       "  <tbody>\n",
       "    <tr>\n",
       "      <th>0</th>\n",
       "      <td>1</td>\n",
       "      <td>2017-04-06 22:44:17.295558</td>\n",
       "      <td>False</td>\n",
       "      <td>f</td>\n",
       "      <td>NaN</td>\n",
       "      <td>vector_info</td>\n",
       "      <td>1</td>\n",
       "      <td>1</td>\n",
       "      <td>[{\"category\": \"woman\", \"lock\": true, \"seed\": 0...</td>\n",
       "    </tr>\n",
       "    <tr>\n",
       "      <th>1</th>\n",
       "      <td>3</td>\n",
       "      <td>2017-04-06 22:44:17.47222</td>\n",
       "      <td>False</td>\n",
       "      <td>f</td>\n",
       "      <td>NaN</td>\n",
       "      <td>vector_info</td>\n",
       "      <td>2</td>\n",
       "      <td>1</td>\n",
       "      <td>[{\"category\": \"woman\", \"lock\": false, \"seed\": ...</td>\n",
       "    </tr>\n",
       "    <tr>\n",
       "      <th>2</th>\n",
       "      <td>2</td>\n",
       "      <td>2017-04-06 22:44:17.465681</td>\n",
       "      <td>True</td>\n",
       "      <td>f</td>\n",
       "      <td>NaN</td>\n",
       "      <td>vector_info</td>\n",
       "      <td>2</td>\n",
       "      <td>1</td>\n",
       "      <td>[{\"category\": \"woman\", \"lock\": false, \"seed\": ...</td>\n",
       "    </tr>\n",
       "    <tr>\n",
       "      <th>3</th>\n",
       "      <td>5</td>\n",
       "      <td>2017-04-06 22:44:27.59092</td>\n",
       "      <td>False</td>\n",
       "      <td>f</td>\n",
       "      <td>NaN</td>\n",
       "      <td>vector_info</td>\n",
       "      <td>3</td>\n",
       "      <td>1</td>\n",
       "      <td>[{\"category\": \"woman\", \"lock\": true, \"seed\": 0...</td>\n",
       "    </tr>\n",
       "    <tr>\n",
       "      <th>4</th>\n",
       "      <td>4</td>\n",
       "      <td>2017-04-06 22:44:27.589267</td>\n",
       "      <td>True</td>\n",
       "      <td>f</td>\n",
       "      <td>NaN</td>\n",
       "      <td>vector_info</td>\n",
       "      <td>3</td>\n",
       "      <td>1</td>\n",
       "      <td>[{\"category\": \"woman\", \"lock\": true, \"seed\": 0...</td>\n",
       "    </tr>\n",
       "  </tbody>\n",
       "</table>\n",
       "</div>"
      ],
      "text/plain": [
       "   id               creation_time chosen failed  time_of_death         type  \\\n",
       "0   1  2017-04-06 22:44:17.295558  False      f            NaN  vector_info   \n",
       "1   3   2017-04-06 22:44:17.47222  False      f            NaN  vector_info   \n",
       "2   2  2017-04-06 22:44:17.465681   True      f            NaN  vector_info   \n",
       "3   5   2017-04-06 22:44:27.59092  False      f            NaN  vector_info   \n",
       "4   4  2017-04-06 22:44:27.589267   True      f            NaN  vector_info   \n",
       "\n",
       "   origin_id  network_id                                           contents  \n",
       "0          1           1  [{\"category\": \"woman\", \"lock\": true, \"seed\": 0...  \n",
       "1          2           1  [{\"category\": \"woman\", \"lock\": false, \"seed\": ...  \n",
       "2          2           1  [{\"category\": \"woman\", \"lock\": false, \"seed\": ...  \n",
       "3          3           1  [{\"category\": \"woman\", \"lock\": true, \"seed\": 0...  \n",
       "4          3           1  [{\"category\": \"woman\", \"lock\": true, \"seed\": 0...  "
      ]
     },
     "execution_count": 8,
     "metadata": {},
     "output_type": "execute_result"
    }
   ],
   "source": [
    "info = pd.read_csv(\"data/info.csv\")\n",
    "info.drop([\"property2\", \"property3\", \"property4\", \"property5\", ], axis=1, inplace=True)\n",
    "info.rename(columns={\"property1\": \"chosen\"}, inplace=True)\n",
    "info[\"chosen\"].fillna(False, inplace=True)\n",
    "\n",
    "info.head()"
   ]
  },
  {
   "cell_type": "code",
   "execution_count": 179,
   "metadata": {},
   "outputs": [
    {
     "name": "stdout",
     "output_type": "stream",
     "text": [
      "(8, 100) woman\n",
      "(11, 100) man\n",
      "(7, 100) man\n",
      "(6, 100) woman\n"
     ]
    }
   ],
   "source": [
    "# Only extract the chosen stimuli for the chain\n",
    "chosen = np.array([json.loads(c) for c in info[info[\"chosen\"]][\"contents\"]])\n",
    "seeds = [c[\"seed\"] for c in chosen[0]]\n",
    "chains = [np.array([c[\"latent\"] for c in chosen[:,s] if not c[\"lock\"]]) for s in seeds]\n",
    "categories = [[c[\"category\"] for c in chosen[:,s] if not c[\"lock\"]][0] for s in seeds]\n",
    "\n",
    "for s in range(4):\n",
    "    print chains[s].shape, categories[s]"
   ]
  },
  {
   "cell_type": "code",
   "execution_count": 44,
   "metadata": {},
   "outputs": [
    {
     "data": {
      "text/plain": [
       "PCA(copy=True, iterated_power='auto', n_components=2, random_state=None,\n",
       "  svd_solver='full', tol=0.0, whiten=False)"
      ]
     },
     "execution_count": 44,
     "metadata": {},
     "output_type": "execute_result"
    }
   ],
   "source": [
    "# Apply PCA on chain for dimensionality reduction\n",
    "pca = PCA(n_components=2, svd_solver='full')\n",
    "pca.fit(np.vstack(chains))"
   ]
  },
  {
   "cell_type": "code",
   "execution_count": 157,
   "metadata": {},
   "outputs": [
    {
     "data": {
      "image/png": "[encoded data removed]",
      "text/plain": [
       "<matplotlib.figure.Figure at 0x113811910>"
      ]
     },
     "metadata": {},
     "output_type": "display_data"
    }
   ],
   "source": [
    "import matplotlib as mpl\n",
    "import matplotlib.pyplot as plt\n",
    "from matplotlib import colors\n",
    "import matplotlib.patches as mpatches\n",
    "mpl.style.use('ggplot')\n",
    "%matplotlib inline\n",
    "\n",
    "cnames = colors.cnames.values()\n",
    "plt.title('2-component PCA')\n",
    "plt.xlim(-15, 25)\n",
    "plt.ylim(-15, 15)\n",
    "cmap = {'man': 'r', 'woman': 'b'}\n",
    "\n",
    "for i in range(len(chains)):\n",
    "    chain = pca.transform(chains[i])\n",
    "    color = cmap[categories[i]]\n",
    "    n, d = chain.shape\n",
    "    for j in range(n-1):\n",
    "        x, y = chain[j]\n",
    "        dx, dy = chain[j+1] - chain[j]\n",
    "        plt.arrow(x, y, dx, dy,\n",
    "                 head_width=0.5,\n",
    "                 head_length=0.5,\n",
    "                 alpha=0.5,\n",
    "                 color=color)\n",
    "        \n",
    "red_patch = mpatches.Patch(color='red', label='man')\n",
    "blue_patch = mpatches.Patch(color='blue', label='woman')\n",
    "plt.legend(handles=[red_patch, blue_patch], loc=4)\n",
    "plt.show()"
   ]
  },
  {
   "cell_type": "code",
   "execution_count": null,
   "metadata": {
    "collapsed": true
   },
   "outputs": [],
   "source": []
  }
 ],
 "metadata": {
  "anaconda-cloud": {},
  "kernelspec": {
   "display_name": "Python 2",
   "language": "python",
   "name": "python2"
  },
  "language_info": {
   "codemirror_mode": {
    "name": "ipython",
    "version": 2
   },
   "file_extension": ".py",
   "mimetype": "text/x-python",
   "name": "python",
   "nbconvert_exporter": "python",
   "pygments_lexer": "ipython2",
   "version": "2.7.13"
  }
 },
 "nbformat": 4,
 "nbformat_minor": 1
}
